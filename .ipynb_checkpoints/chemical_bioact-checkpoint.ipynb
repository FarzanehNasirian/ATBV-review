{
 "cells": [
  {
   "cell_type": "code",
   "execution_count": 1,
   "metadata": {},
   "outputs": [],
   "source": [
    "import pandas as pd "
   ]
  },
  {
   "cell_type": "code",
   "execution_count": 6,
   "metadata": {},
   "outputs": [],
   "source": [
    "path = '/Users/f.nasirian/Dropbox (CCNR)/Biology/99_Toolbox/data/'\n",
    "act = pd.read_csv(path+'Bioactivities/data/out/bioactivities.csv')"
   ]
  },
  {
   "cell_type": "code",
   "execution_count": 3,
   "metadata": {},
   "outputs": [],
   "source": [
    "gooseberry = {'Geraniin': 'CHEMBL506069', 'Kaempferol': 'CHEMBL150', 'Quercetin ': 'CHEMBL50'}"
   ]
  },
  {
   "cell_type": "code",
   "execution_count": 8,
   "metadata": {},
   "outputs": [
    {
     "data": {
      "text/plain": [
       "PSMB5       2\n",
       "EGFR        2\n",
       "CYP1A1      2\n",
       "CSNK2A3     2\n",
       "CSNK2A1     2\n",
       "CSNK2B      2\n",
       "CSNK2A2     2\n",
       "CYP1B1      2\n",
       "CDK1        1\n",
       "AKR1B1      1\n",
       "CYP19A1     1\n",
       "YES1        1\n",
       "ALOX15      1\n",
       "HSD17B10    1\n",
       "TYR         1\n",
       "IP6K2       1\n",
       "PIK3CG      1\n",
       "DPP4        1\n",
       "TP53        1\n",
       "POLB        1\n",
       "AHR         1\n",
       "NOX4        1\n",
       "FLT3        1\n",
       "MET         1\n",
       "HSD17B2     1\n",
       "CISD1       1\n",
       "CYP1A2      1\n",
       "ALOX12      1\n",
       "CA7         1\n",
       "CA12        1\n",
       "SRC         1\n",
       "KDR         1\n",
       "IGF1R       1\n",
       "AXL         1\n",
       "F2          1\n",
       "XDH         1\n",
       "ABCG2       1\n",
       "AURKB       1\n",
       "PIM1        1\n",
       "ALOX5       1\n",
       "RECQL       1\n",
       "CYP2C9      1\n",
       "NPSR1       1\n",
       "Name: symbol, dtype: int64"
      ]
     },
     "execution_count": 8,
     "metadata": {},
     "output_type": "execute_result"
    }
   ],
   "source": [
    "#common targets\n",
    "act[act.chemId.isin(list(gooseberry.values()))].symbol.value_counts()"
   ]
  },
  {
   "cell_type": "code",
   "execution_count": null,
   "metadata": {},
   "outputs": [],
   "source": []
  }
 ],
 "metadata": {
  "kernelspec": {
   "display_name": "Python 3",
   "language": "python",
   "name": "python3"
  },
  "language_info": {
   "codemirror_mode": {
    "name": "ipython",
    "version": 3
   },
   "file_extension": ".py",
   "mimetype": "text/x-python",
   "name": "python",
   "nbconvert_exporter": "python",
   "pygments_lexer": "ipython3",
   "version": "3.6.10"
  },
  "vscode": {
   "interpreter": {
    "hash": "5cde4cd708c623220f5e4872106977bd9ff6957a405f0f1da032867ce92b3768"
   }
  }
 },
 "nbformat": 4,
 "nbformat_minor": 2
}
