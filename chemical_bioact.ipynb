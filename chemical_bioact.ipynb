{
 "cells": [
  {
   "cell_type": "code",
   "execution_count": 1,
   "metadata": {},
   "outputs": [],
   "source": [
    "import pandas as pd \n",
    "import numpy as np\n",
    "from chembl_webresource_client.new_client import new_client"
   ]
  },
  {
   "cell_type": "code",
   "execution_count": 2,
   "metadata": {},
   "outputs": [],
   "source": [
    "path = '/Users/f.nasirian/Dropbox (CCNR)/Biology/99_Toolbox/data/'\n",
    "act = pd.read_csv(path+'Bioactivities/data/out/bioactivities.csv')"
   ]
  },
  {
   "cell_type": "code",
   "execution_count": 3,
   "metadata": {},
   "outputs": [],
   "source": [
    "#will use chemical formula for validation \n",
    "gooseberry = {'Geraniin': 'C41H28O27',\n",
    " 'Kaempferol': 'C15H10O6',\n",
    " 'Quercetin': 'C15H10O7', \n",
    " 'Pyrogallol': 'C6H6O3', \n",
    " 'Gallic acid': 'C7H6O5',\n",
    " 'Citric acid': 'C6H8O7', \n",
    " 'Ascorbic acid': 'C6H8O6', \n",
    " 'Ellagic acid': 'C14H6O8',\n",
    " 'Chebulic acid': 'C14H12O11', \n",
    " 'Chebulinic acid': 'C41H32O27', \n",
    " 'Corilagin': 'C27H22O18', \n",
    " 'Emblicanin B': 'C34H20O22', \n",
    " 'Emblicanin A': 'C34H22O22', \n",
    " 'Pedunculagin': 'C34H24O22'}"
   ]
  },
  {
   "cell_type": "code",
   "execution_count": 4,
   "metadata": {},
   "outputs": [],
   "source": [
    "_df = pd.DataFrame(list(gooseberry.keys()), columns=['chemName'])"
   ]
  },
  {
   "cell_type": "markdown",
   "metadata": {},
   "source": [
    "Check [this](https://github.com/chembl/chembl_webresource_client/blob/master/demo_wrc.ipynb) to learn how to query chemicals' data in ChEMBL. "
   ]
  },
  {
   "cell_type": "code",
   "execution_count": 5,
   "metadata": {},
   "outputs": [],
   "source": [
    "molecule = new_client.molecule"
   ]
  },
  {
   "cell_type": "code",
   "execution_count": 6,
   "metadata": {},
   "outputs": [],
   "source": [
    "#use iexact as the lookup type to get case-insensitive exact match (map chemical name to chembl id)\n",
    "def f(x):\n",
    "    temp_dict = molecule.filter(pref_name__iexact=x).only(['molecule_chembl_id', 'molecule_properties'])[0]\n",
    "    if temp_dict:\n",
    "        if temp_dict['molecule_properties']['full_molformula'] == gooseberry[x]:\n",
    "            return(temp_dict['molecule_chembl_id']) \n",
    "        else:\n",
    "            return(np.nan)\n",
    "\n",
    "_df['chemId'] = _df.chemName.apply(lambda x: f(x))"
   ]
  },
  {
   "cell_type": "code",
   "execution_count": 7,
   "metadata": {},
   "outputs": [],
   "source": [
    "_df = _df[_df.chemId.notnull()]"
   ]
  },
  {
   "cell_type": "code",
   "execution_count": 8,
   "metadata": {},
   "outputs": [],
   "source": [
    "#add targets\n",
    "_df = _df.merge(act, on='chemId', how='left')\n",
    "_df = _df[_df.GeneId.notnull()]"
   ]
  },
  {
   "cell_type": "code",
   "execution_count": 9,
   "metadata": {},
   "outputs": [
    {
     "data": {
      "text/plain": [
       "chemName\n",
       "Ascorbic acid     1\n",
       "Corilagin         1\n",
       "Ellagic acid     28\n",
       "Gallic acid       6\n",
       "Kaempferol       17\n",
       "Pedunculagin      1\n",
       "Pyrogallol        5\n",
       "Quercetin        34\n",
       "Name: GeneId, dtype: int64"
      ]
     },
     "execution_count": 9,
     "metadata": {},
     "output_type": "execute_result"
    }
   ],
   "source": [
    "#chemical-target count\n",
    "_df.groupby('chemName')['GeneId'].size()"
   ]
  },
  {
   "cell_type": "code",
   "execution_count": 10,
   "metadata": {},
   "outputs": [
    {
     "data": {
      "text/plain": [
       "HSD17B10    4\n",
       "EGFR        3\n",
       "TDP1        3\n",
       "CSNK2B      3\n",
       "CSNK2A1     3\n",
       "           ..\n",
       "IP6K2       1\n",
       "TP53        1\n",
       "FLT3        1\n",
       "PIK3CG      1\n",
       "F10         1\n",
       "Name: GeneId, Length: 67, dtype: int64"
      ]
     },
     "execution_count": 10,
     "metadata": {},
     "output_type": "execute_result"
    }
   ],
   "source": [
    "#common targets\n",
    "_df.GeneId.value_counts()"
   ]
  },
  {
   "cell_type": "code",
   "execution_count": 11,
   "metadata": {},
   "outputs": [
    {
     "data": {
      "text/html": [
       "<div>\n",
       "<style scoped>\n",
       "    .dataframe tbody tr th:only-of-type {\n",
       "        vertical-align: middle;\n",
       "    }\n",
       "\n",
       "    .dataframe tbody tr th {\n",
       "        vertical-align: top;\n",
       "    }\n",
       "\n",
       "    .dataframe thead th {\n",
       "        text-align: right;\n",
       "    }\n",
       "</style>\n",
       "<table border=\"1\" class=\"dataframe\">\n",
       "  <thead>\n",
       "    <tr style=\"text-align: right;\">\n",
       "      <th></th>\n",
       "      <th>chemName</th>\n",
       "      <th>chemId</th>\n",
       "      <th>GeneId</th>\n",
       "    </tr>\n",
       "  </thead>\n",
       "  <tbody>\n",
       "    <tr>\n",
       "      <th>40</th>\n",
       "      <td>Quercetin</td>\n",
       "      <td>CHEMBL50</td>\n",
       "      <td>HSD17B10</td>\n",
       "    </tr>\n",
       "    <tr>\n",
       "      <th>52</th>\n",
       "      <td>Pyrogallol</td>\n",
       "      <td>CHEMBL307145</td>\n",
       "      <td>HSD17B10</td>\n",
       "    </tr>\n",
       "    <tr>\n",
       "      <th>60</th>\n",
       "      <td>Gallic acid</td>\n",
       "      <td>CHEMBL288114</td>\n",
       "      <td>HSD17B10</td>\n",
       "    </tr>\n",
       "    <tr>\n",
       "      <th>68</th>\n",
       "      <td>Ellagic acid</td>\n",
       "      <td>CHEMBL6246</td>\n",
       "      <td>HSD17B10</td>\n",
       "    </tr>\n",
       "  </tbody>\n",
       "</table>\n",
       "</div>"
      ],
      "text/plain": [
       "        chemName        chemId    GeneId\n",
       "40     Quercetin      CHEMBL50  HSD17B10\n",
       "52    Pyrogallol  CHEMBL307145  HSD17B10\n",
       "60   Gallic acid  CHEMBL288114  HSD17B10\n",
       "68  Ellagic acid    CHEMBL6246  HSD17B10"
      ]
     },
     "execution_count": 11,
     "metadata": {},
     "output_type": "execute_result"
    }
   ],
   "source": [
    "_df[_df.GeneId == 'HSD17B10']"
   ]
  },
  {
   "cell_type": "code",
   "execution_count": 12,
   "metadata": {},
   "outputs": [
    {
     "data": {
      "text/plain": [
       "8"
      ]
     },
     "execution_count": 12,
     "metadata": {},
     "output_type": "execute_result"
    }
   ],
   "source": [
    "#number of chemicals with target\n",
    "_df.chemId.nunique()"
   ]
  },
  {
   "cell_type": "code",
   "execution_count": 14,
   "metadata": {},
   "outputs": [],
   "source": [
    "_df.to_csv('chemical_target.csv', index=False)"
   ]
  },
  {
   "cell_type": "code",
   "execution_count": null,
   "metadata": {},
   "outputs": [],
   "source": []
  }
 ],
 "metadata": {
  "kernelspec": {
   "display_name": "Python 3.8.5 ('base')",
   "language": "python",
   "name": "python3"
  },
  "language_info": {
   "codemirror_mode": {
    "name": "ipython",
    "version": 3
   },
   "file_extension": ".py",
   "mimetype": "text/x-python",
   "name": "python",
   "nbconvert_exporter": "python",
   "pygments_lexer": "ipython3",
   "version": "3.8.5"
  },
  "orig_nbformat": 4,
  "vscode": {
   "interpreter": {
    "hash": "5cde4cd708c623220f5e4872106977bd9ff6957a405f0f1da032867ce92b3768"
   }
  }
 },
 "nbformat": 4,
 "nbformat_minor": 2
}
