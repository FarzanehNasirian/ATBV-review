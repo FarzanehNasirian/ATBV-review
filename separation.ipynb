{
 "cells": [
  {
   "cell_type": "code",
   "execution_count": 1,
   "id": "009a6851-0be9-49e5-9aee-34cc59cc4d46",
   "metadata": {},
   "outputs": [],
   "source": [
    "from proximity.network import Network\n",
    "from itertools import combinations\n",
    "import pandas as pd\n",
    "import networkx as nx\n",
    "import graph_tool.all as gt\n",
    "import matplotlib.pyplot as plt\n",
    "%config InlineBackend.figure_format = 'retina'\n",
    "import seaborn as sns"
   ]
  },
  {
   "cell_type": "code",
   "execution_count": 8,
   "id": "bfae6091-b252-436e-9c06-ccefdf62cdda",
   "metadata": {},
   "outputs": [],
   "source": [
    "#read ppi network\n",
    "G = nx.from_pandas_edgelist(pd.read_csv('data/Gene_Gene.csv'), 'source', 'target')"
   ]
  },
  {
   "cell_type": "code",
   "execution_count": 9,
   "id": "7eee87ed-9c51-48ac-a7bc-a0f01fe2a6e3",
   "metadata": {},
   "outputs": [],
   "source": [
    "#read chemical-target associations\n",
    "_df = pd.read_csv('data/chemical_target_experiment.csv')\n",
    "temp = _df.groupby('chemName')['GeneId'].apply(set).to_dict()"
   ]
  },
  {
   "cell_type": "code",
   "execution_count": 10,
   "id": "945350e0-4310-41a4-80d2-72b39f812e31",
   "metadata": {},
   "outputs": [],
   "source": [
    "net = Network(G)"
   ]
  },
  {
   "cell_type": "markdown",
   "id": "d08ebd38-e0df-4dc0-82e5-be56dfadaea3",
   "metadata": {},
   "source": [
    "### separation"
   ]
  },
  {
   "cell_type": "code",
   "execution_count": 35,
   "id": "550e7ace-8578-4dd3-9832-06ad7f7f8a31",
   "metadata": {},
   "outputs": [],
   "source": [
    "chem_colors = {\n",
    "    'Ascorbic acid': '#008480',\n",
    "    'Corilagin': '#eba628',\n",
    "    'Ellagic acid': '#eba628',\n",
    "    'Gallic acid': '#7644b5',\n",
    "    'Kaempferol': '#007f36',\n",
    "    'Pedunculagin': '#eba628',\n",
    "    'Pyrogallol': '#77c600',\n",
    "    'Quercetin': '#007f36',\n",
    "    'Citric acid': '#0e679f'\n",
    "}"
   ]
  },
  {
   "cell_type": "code",
   "execution_count": 50,
   "id": "58e1d81b-cfb6-4c5d-8375-47967904c0bb",
   "metadata": {},
   "outputs": [
    {
     "name": "stderr",
     "output_type": "stream",
     "text": [
      "/opt/conda/lib/python3.7/site-packages/numpy/core/fromnumeric.py:3441: RuntimeWarning: Mean of empty slice.\n",
      "  out=out, **kwargs)\n",
      "/opt/conda/lib/python3.7/site-packages/numpy/core/_methods.py:189: RuntimeWarning: invalid value encountered in double_scalars\n",
      "  ret = ret.dtype.type(ret / rcount)\n"
     ]
    },
    {
     "data": {
      "text/html": [
       "<div>\n",
       "<style scoped>\n",
       "    .dataframe tbody tr th:only-of-type {\n",
       "        vertical-align: middle;\n",
       "    }\n",
       "\n",
       "    .dataframe tbody tr th {\n",
       "        vertical-align: top;\n",
       "    }\n",
       "\n",
       "    .dataframe thead th {\n",
       "        text-align: right;\n",
       "    }\n",
       "</style>\n",
       "<table border=\"1\" class=\"dataframe\">\n",
       "  <thead>\n",
       "    <tr style=\"text-align: right;\">\n",
       "      <th></th>\n",
       "      <th>A</th>\n",
       "      <th>B</th>\n",
       "      <th>sep</th>\n",
       "    </tr>\n",
       "  </thead>\n",
       "  <tbody>\n",
       "    <tr>\n",
       "      <th>0</th>\n",
       "      <td>Ascorbic acid</td>\n",
       "      <td>Citric acid</td>\n",
       "      <td>0.035632</td>\n",
       "    </tr>\n",
       "  </tbody>\n",
       "</table>\n",
       "</div>"
      ],
      "text/plain": [
       "               A            B       sep\n",
       "0  Ascorbic acid  Citric acid  0.035632"
      ]
     },
     "execution_count": 50,
     "metadata": {},
     "output_type": "execute_result"
    }
   ],
   "source": [
    "#compute separation\n",
    "sep_df = []\n",
    "for a,b in combinations(temp.keys(), 2): sep_df.append([a, b, net.get_separation(temp[a], temp[b])])\n",
    "sep_df = pd.DataFrame(sep_df, columns=['A', 'B', 'sep'])\n",
    "sep_df = sep_df[sep_df.sep.notnull()]\n",
    "sep_df.head(1)"
   ]
  },
  {
   "cell_type": "code",
   "execution_count": 51,
   "id": "45ed78cc-2391-4cbe-9723-d818812b8a99",
   "metadata": {},
   "outputs": [
    {
     "data": {
      "text/plain": [
       "True     13\n",
       "False     8\n",
       "Name: sep, dtype: int64"
      ]
     },
     "execution_count": 51,
     "metadata": {},
     "output_type": "execute_result"
    }
   ],
   "source": [
    "#complementary exposure\n",
    "sep_df.sep.apply(lambda x: True if x>0 else False).value_counts()"
   ]
  },
  {
   "cell_type": "code",
   "execution_count": 52,
   "id": "21d0154a-b80f-44c4-9c2e-a7976069b1cc",
   "metadata": {},
   "outputs": [],
   "source": [
    "sep_df = sep_df[sep_df.sep >= 0]"
   ]
  },
  {
   "cell_type": "raw",
   "id": "e93a8943-6f6a-4c87-acdd-5a13bd7aa618",
   "metadata": {},
   "source": [
    "sep_df['abs_sab'] = sep_df.sep.apply(lambda x: abs(x))"
   ]
  },
  {
   "cell_type": "raw",
   "id": "062f3df2-7e28-4ea8-9fc5-083fbe84a551",
   "metadata": {},
   "source": [
    "sep_df['color'] = sep_df.sep.apply(lambda x: '#00815a' if x>0 else '#810007')"
   ]
  },
  {
   "cell_type": "code",
   "execution_count": 54,
   "id": "5cc1a6d3-5d71-4cfc-bff2-12e946b80d31",
   "metadata": {},
   "outputs": [],
   "source": [
    "g = gt.Graph(directed=False)\n",
    "ew = g.new_ep('float')\n",
    "ec = g.new_ep('string')\n",
    "#ids = g.add_edge_list(sep_df.drop('sep',axis=1).values, hashed=True, eprops=[ew, ec])\n",
    "ids = g.add_edge_list(sep_df.values, hashed=True, eprops=[ew, ec])\n",
    "for e in g.edges(): ew[e] = ew[e] * 30 #* -1"
   ]
  },
  {
   "cell_type": "code",
   "execution_count": 55,
   "id": "8089ab23-c1c8-4243-a1d0-69bb35fe1c44",
   "metadata": {},
   "outputs": [],
   "source": [
    "vt = g.new_vp('string')\n",
    "vc = g.new_vp('string')\n",
    "for v in g.iter_vertices(): \n",
    "    vt[v] = ids[v]\n",
    "    vc[v] = chem_colors[ids[v]]"
   ]
  },
  {
   "cell_type": "code",
   "execution_count": 62,
   "id": "4d2c1f0a-fe58-4df1-90c4-f1b27f47fa72",
   "metadata": {},
   "outputs": [],
   "source": [
    "pos = gt.sfdp_layout(g)"
   ]
  },
  {
   "cell_type": "code",
   "execution_count": 64,
   "id": "60b578ce-ca8d-41c4-952e-ca1127158933",
   "metadata": {},
   "outputs": [
    {
     "data": {
      "text/plain": [
       "<VertexPropertyMap object with value type 'vector<double>', for Graph 0x7f71dfd16210, at 0x7f72161d3fd0>"
      ]
     },
     "execution_count": 64,
     "metadata": {},
     "output_type": "execute_result"
    }
   ],
   "source": [
    "gt.graph_draw(g, pos=pos, vertex_text=vt, vertex_font_size=10, edge_pen_width=ew, vertex_pen_width=4, \n",
    "              vertex_fill_color='#9f9d9d', edge_color='#00854f', vertex_color=vc)#, output='data/out.svg')  #00854f, 840000"
   ]
  },
  {
   "cell_type": "code",
   "execution_count": null,
   "id": "d96ff836-035b-4ae2-b65b-433efd7d5656",
   "metadata": {},
   "outputs": [],
   "source": []
  },
  {
   "cell_type": "code",
   "execution_count": null,
   "id": "827ad80d-1048-4632-85c9-0c8eb6b2c65a",
   "metadata": {},
   "outputs": [],
   "source": []
  }
 ],
 "metadata": {
  "environment": {
   "kernel": "python3",
   "name": "common-cpu.m93",
   "type": "gcloud",
   "uri": "gcr.io/deeplearning-platform-release/base-cpu:m93"
  },
  "kernelspec": {
   "display_name": "Python 3",
   "language": "python",
   "name": "python3"
  },
  "language_info": {
   "codemirror_mode": {
    "name": "ipython",
    "version": 3
   },
   "file_extension": ".py",
   "mimetype": "text/x-python",
   "name": "python",
   "nbconvert_exporter": "python",
   "pygments_lexer": "ipython3",
   "version": "3.7.12"
  }
 },
 "nbformat": 4,
 "nbformat_minor": 5
}
