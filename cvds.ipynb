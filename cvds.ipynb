{
 "cells": [
  {
   "cell_type": "code",
   "execution_count": 1,
   "metadata": {},
   "outputs": [],
   "source": [
    "import pandas as pd \n",
    "import numpy as np"
   ]
  },
  {
   "cell_type": "code",
   "execution_count": 2,
   "metadata": {},
   "outputs": [],
   "source": [
    "#evidence count for disease_gene association\n",
    "path = '/Users/f.nasirian/Dropbox (CCNR)/Biology/99_Toolbox/data/Open_Targets_Platform/data/out'\n",
    "dgs = pd.read_csv(path+'/disease_gene_v2.csv').drop('targets', axis=1).drop_duplicates()\n",
    "dgs = dgs[dgs.GeneId.notnull()]\n",
    "dgs = dgs[(~dgs.source.isin(['literature']))]\n",
    "#dgs = dgs.groupby(['efoId', 'efoName', 'GeneId', 'source'])['evidenceCount'].apply(sum).reset_index()"
   ]
  },
  {
   "cell_type": "code",
   "execution_count": 3,
   "metadata": {},
   "outputs": [
    {
     "data": {
      "text/plain": [
       "array(['genetic_association', 'known_drug', 'somatic_mutation',\n",
       "       'rna_expression', 'affected_pathway', 'animal_model'], dtype=object)"
      ]
     },
     "execution_count": 3,
     "metadata": {},
     "output_type": "execute_result"
    }
   ],
   "source": [
    "dgs.source.unique()"
   ]
  },
  {
   "cell_type": "code",
   "execution_count": 4,
   "metadata": {},
   "outputs": [],
   "source": [
    "#disease therapeutic area\n",
    "ta = dgs[['efoId']].drop_duplicates().merge(\n",
    "    pd.read_csv(path+'/therapeutic_areas_v2.csv').rename(columns={'efoName':'taName'}), on='efoId', how='left')    "
   ]
  },
  {
   "cell_type": "code",
   "execution_count": 5,
   "metadata": {},
   "outputs": [],
   "source": [
    "#diseases classified in cvd area\n",
    "cvd_area = set(ta[ta.taName == 'cardiovascular disease']['efoId']) - {'EFO_0000319'}"
   ]
  },
  {
   "cell_type": "code",
   "execution_count": 6,
   "metadata": {},
   "outputs": [],
   "source": [
    "dgs = dgs[(dgs.efoId.isin(cvd_area)) & (dgs.source == 'genetic_association')]"
   ]
  },
  {
   "cell_type": "code",
   "execution_count": 7,
   "metadata": {},
   "outputs": [
    {
     "data": {
      "text/plain": [
       "65"
      ]
     },
     "execution_count": 7,
     "metadata": {},
     "output_type": "execute_result"
    }
   ],
   "source": [
    "#cvds with at least 20 associations\n",
    "df = dgs.groupby(['efoId', 'efoName'])['GeneId'].size().reset_index(name='Count')\n",
    "sel_cvd = df[df.Count > 20].efoId.unique()\n",
    "len(sel_cvd)"
   ]
  },
  {
   "cell_type": "code",
   "execution_count": 8,
   "metadata": {},
   "outputs": [
    {
     "data": {
      "text/plain": [
       "efoId          efoName                            \n",
       "EFO_1001976    cardioembolic stroke                    13\n",
       "MONDO_0024664  hypertension, pregnancy-induced         15\n",
       "EFO_0003875    peripheral vascular disease             15\n",
       "EFO_0005938    congenital left-sided heart lesions     15\n",
       "EFO_0003914    atherosclerosis                         16\n",
       "                                                     ... \n",
       "EFO_0000712    stroke                                 152\n",
       "EFO_0000612    myocardial infarction                  224\n",
       "EFO_0000275    atrial fibrillation                    348\n",
       "EFO_0001645    coronary artery disease                571\n",
       "EFO_0000537    hypertension                           576\n",
       "Name: GeneId, Length: 65, dtype: int64"
      ]
     },
     "execution_count": 8,
     "metadata": {},
     "output_type": "execute_result"
    }
   ],
   "source": [
    "dgs[(dgs.efoId.isin(sel_cvd)) & (dgs.score > 0.1)].groupby(['efoId', 'efoName'])['GeneId'].size().sort_values()"
   ]
  },
  {
   "cell_type": "code",
   "execution_count": 9,
   "metadata": {},
   "outputs": [],
   "source": [
    "dgs[(dgs.efoId.isin(sel_cvd)) & (dgs.score > 0.1)].to_csv('data/cvd_genes.csv', index=False)"
   ]
  },
  {
   "cell_type": "code",
   "execution_count": null,
   "metadata": {},
   "outputs": [],
   "source": []
  }
 ],
 "metadata": {
  "kernelspec": {
   "display_name": "Python 3",
   "language": "python",
   "name": "python3"
  },
  "language_info": {
   "codemirror_mode": {
    "name": "ipython",
    "version": 3
   },
   "file_extension": ".py",
   "mimetype": "text/x-python",
   "name": "python",
   "nbconvert_exporter": "python",
   "pygments_lexer": "ipython3",
   "version": "3.8.5"
  },
  "vscode": {
   "interpreter": {
    "hash": "5cde4cd708c623220f5e4872106977bd9ff6957a405f0f1da032867ce92b3768"
   }
  }
 },
 "nbformat": 4,
 "nbformat_minor": 2
}
