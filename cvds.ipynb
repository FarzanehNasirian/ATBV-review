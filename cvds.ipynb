{
 "cells": [
  {
   "cell_type": "code",
   "execution_count": 1,
   "metadata": {},
   "outputs": [],
   "source": [
    "import pandas as pd \n",
    "import numpy as np\n",
    "import networkx as nx\n",
    "from lccsig import LCC_zscore"
   ]
  },
  {
   "cell_type": "code",
   "execution_count": 2,
   "metadata": {},
   "outputs": [],
   "source": [
    "#read ppi network\n",
    "G = nx.from_pandas_edgelist(pd.read_csv('data/Gene_Gene.csv'), 'source', 'target')"
   ]
  },
  {
   "cell_type": "code",
   "execution_count": 3,
   "metadata": {},
   "outputs": [],
   "source": [
    "#evidence count for disease_gene association\n",
    "path = '/Users/f.nasirian/Dropbox (CCNR)/Biology/99_Toolbox/data/Open_Targets_Platform/data/out'\n",
    "dgs = pd.read_csv(path+'/disease_gene_v2.csv').drop('targets', axis=1).drop_duplicates()\n",
    "dgs = dgs[dgs.GeneId.notnull()]\n",
    "dgs = dgs[(~dgs.source.isin(['literature']))]\n",
    "#dgs = dgs.groupby(['efoId', 'efoName', 'GeneId', 'source'])['evidenceCount'].apply(sum).reset_index()"
   ]
  },
  {
   "cell_type": "code",
   "execution_count": 4,
   "metadata": {},
   "outputs": [
    {
     "data": {
      "text/plain": [
       "array(['genetic_association', 'known_drug', 'somatic_mutation',\n",
       "       'rna_expression', 'affected_pathway', 'animal_model'], dtype=object)"
      ]
     },
     "execution_count": 4,
     "metadata": {},
     "output_type": "execute_result"
    }
   ],
   "source": [
    "dgs.source.unique()"
   ]
  },
  {
   "cell_type": "code",
   "execution_count": 5,
   "metadata": {},
   "outputs": [],
   "source": [
    "#disease therapeutic area\n",
    "ta = dgs[['efoId']].drop_duplicates().merge(\n",
    "    pd.read_csv(path+'/therapeutic_areas_v2.csv').rename(columns={'efoName':'taName'}), on='efoId', how='left')    "
   ]
  },
  {
   "cell_type": "code",
   "execution_count": 7,
   "metadata": {},
   "outputs": [
    {
     "data": {
      "text/plain": [
       "array(['infectious disease or post-infectious disorder',\n",
       "       'infectious disease',\n",
       "       'musculoskeletal or connective tissue disease',\n",
       "       'respiratory or thoracic disease',\n",
       "       'reproductive system or breast disease', 'urinary system disease',\n",
       "       'hematologic disease', 'genetic, familial or congenital disease',\n",
       "       'cancer or benign tumor', 'immune system disease',\n",
       "       'gastrointestinal disease', 'endocrine system disease',\n",
       "       'integumentary system disease', 'nutritional or metabolic disease',\n",
       "       'nervous system disease', 'cardiovascular disease',\n",
       "       'pancreas disease', 'psychiatric disorder',\n",
       "       'disorder of visual system', 'measurement', 'biological process',\n",
       "       'pregnancy or perinatal disease',\n",
       "       'injury, poisoning or other complication', 'phenotype',\n",
       "       'disorder of ear', nan], dtype=object)"
      ]
     },
     "execution_count": 7,
     "metadata": {},
     "output_type": "execute_result"
    }
   ],
   "source": [
    "ta.taName.unique()"
   ]
  },
  {
   "cell_type": "code",
   "execution_count": 5,
   "metadata": {},
   "outputs": [],
   "source": [
    "#diseases classified in cvd area\n",
    "cvd_area = set(ta[ta.taName == 'cardiovascular disease']['efoId']) - {'EFO_0000319'}"
   ]
  },
  {
   "cell_type": "code",
   "execution_count": 6,
   "metadata": {},
   "outputs": [],
   "source": [
    "dgs = dgs[(dgs.efoId.isin(cvd_area)) & (dgs.source == 'genetic_association') & (dgs.score > 0.1)]"
   ]
  },
  {
   "cell_type": "code",
   "execution_count": 7,
   "metadata": {},
   "outputs": [
    {
     "data": {
      "text/plain": [
       "53"
      ]
     },
     "execution_count": 7,
     "metadata": {},
     "output_type": "execute_result"
    }
   ],
   "source": [
    "#cvds with at least 20 associations\n",
    "df = dgs.groupby(['efoId', 'efoName'])['GeneId'].size().reset_index(name='Count')\n",
    "sel_cvd = df[df.Count > 20].efoId.unique()\n",
    "len(sel_cvd)"
   ]
  },
  {
   "cell_type": "code",
   "execution_count": 10,
   "metadata": {},
   "outputs": [
    {
     "data": {
      "text/plain": [
       "efoId            efoName                                                     \n",
       "EFO_0010977      macrovascular complications of diabetes                          21\n",
       "Orphanet_217656  familial isolated arrhythmogenic right ventricular dysplasia     22\n",
       "Orphanet_871     familial progressive cardiac conduction defect                   23\n",
       "MONDO_0004596    cor pulmonale                                                    23\n",
       "Orphanet_91387   familial thoracic aortic aneurysm and aortic dissection          24\n",
       "Orphanet_1480    ventricular septal defect                                        24\n",
       "EFO_0005306      ventricular tachycardia                                          25\n",
       "EFO_0004246      mucocutaneous lymph node syndrome                                25\n",
       "Orphanet_104     leber hereditary optic neuropathy                                26\n",
       "EFO_0003827      pulmonary embolism                                               26\n",
       "MONDO_0024573    familial hypertrophic cardiomyopathy                             27\n",
       "Orphanet_3286    catecholaminergic polymorphic ventricular tachycardia            28\n",
       "EFO_0009142      autosomal dominant dilated cardiomyopathy                        30\n",
       "EFO_1001771      cardiac edema                                                    31\n",
       "Orphanet_2573    moyamoya disease                                                 31\n",
       "EFO_0003780      behcet's syndrome                                                32\n",
       "Orphanet_648     noonan syndrome                                                  33\n",
       "EFO_0001361      pulmonary arterial hypertension                                  33\n",
       "Orphanet_247     arrhythmogenic right ventricular dysplasia                       33\n",
       "EFO_0005524      large artery stroke                                              37\n",
       "Orphanet_130     brugada syndrome                                                 38\n",
       "EFO_0003770      diabetic retinopathy                                             41\n",
       "EFO_0004214      abdominal aortic aneurysm                                        42\n",
       "EFO_1001857      takayasu arteritis                                               43\n",
       "Orphanet_54260   left ventricular noncompaction                                   44\n",
       "MONDO_0008638    varicose disease                                                 45\n",
       "Orphanet_217607  familial dilated cardiomyopathy                                  45\n",
       "EFO_0005207      congenital heart disease                                         45\n",
       "EFO_1001450      wolff-parkinson-white syndrome                                   48\n",
       "Orphanet_154     familial isolated dilated cardiomyopathy                         48\n",
       "EFO_0004278      sudden cardiac arrest                                            53\n",
       "MONDO_0004634    vein disorder                                                    54\n",
       "EFO_0004265      peripheral arterial disease                                      56\n",
       "EFO_0003870      brain aneurysm                                                   76\n",
       "EFO_0004269      cardiac arrhythmia                                               79\n",
       "EFO_0003144      heart failure                                                    81\n",
       "EFO_1001375      myocardial ischemia                                              82\n",
       "EFO_0000318      cardiomyopathy                                                   85\n",
       "EFO_0000717      systemic scleroderma                                             87\n",
       "Orphanet_99739   rare familial disorder with hypertrophic cardiomyopathy          87\n",
       "MONDO_0001134    essential hypertension                                           94\n",
       "MONDO_0021661    coronary atherosclerosis                                        102\n",
       "EFO_0004286      venous thromboembolism                                          110\n",
       "EFO_0003911      atrial flutter                                                  111\n",
       "MONDO_0005277    migraine disorder                                               130\n",
       "EFO_0000538      hypertrophic cardiomyopathy                                     139\n",
       "EFO_0009552      hemorrhoid                                                      140\n",
       "EFO_0000407      dilated cardiomyopathy                                          149\n",
       "EFO_0000712      stroke                                                          152\n",
       "EFO_0000612      myocardial infarction                                           224\n",
       "EFO_0000275      atrial fibrillation                                             348\n",
       "EFO_0001645      coronary artery disease                                         571\n",
       "EFO_0000537      hypertension                                                    576\n",
       "Name: GeneId, dtype: int64"
      ]
     },
     "execution_count": 10,
     "metadata": {},
     "output_type": "execute_result"
    }
   ],
   "source": [
    "dgs[dgs.efoId.isin(sel_cvd)].groupby(['efoId', 'efoName'])['GeneId'].size().sort_values()"
   ]
  },
  {
   "cell_type": "code",
   "execution_count": 46,
   "metadata": {},
   "outputs": [],
   "source": [
    "cvd_sel = dgs[dgs.efoId.isin(sel_cvd)].copy()"
   ]
  },
  {
   "cell_type": "code",
   "execution_count": 19,
   "metadata": {},
   "outputs": [],
   "source": [
    "pvalues = cvd_sel.groupby('efoId')['GeneId'].apply(set).apply(lambda x: LCC_zscore(G, x)[0])"
   ]
  },
  {
   "cell_type": "code",
   "execution_count": 37,
   "metadata": {},
   "outputs": [],
   "source": [
    "df_lcc = dgs[dgs.efoId.isin(sel_cvd)].groupby(['efoId', 'efoName'])['GeneId'].size().reset_index()\n",
    "df_lcc['lcc_sig'] = pvalues.reset_index().GeneId.to_list()\n",
    "df_lcc['sig'] = df_lcc.lcc_sig.apply(lambda x: True if x<=0.05 else False)"
   ]
  },
  {
   "cell_type": "code",
   "execution_count": 38,
   "metadata": {},
   "outputs": [
    {
     "data": {
      "text/plain": [
       "True     31\n",
       "False    22\n",
       "Name: sig, dtype: int64"
      ]
     },
     "execution_count": 38,
     "metadata": {},
     "output_type": "execute_result"
    }
   ],
   "source": [
    "df_lcc.sig.value_counts()"
   ]
  },
  {
   "cell_type": "code",
   "execution_count": 40,
   "metadata": {},
   "outputs": [],
   "source": [
    "dict_temp = dict(zip(df_lcc.efoId, df_lcc.sig))"
   ]
  },
  {
   "cell_type": "code",
   "execution_count": 47,
   "metadata": {},
   "outputs": [],
   "source": [
    "cvd_sel['lcc_sig'] = cvd_sel.efoId.apply(lambda x: dict_temp[x])"
   ]
  },
  {
   "cell_type": "code",
   "execution_count": 48,
   "metadata": {},
   "outputs": [],
   "source": [
    "cvd_sel.to_csv('data/cvd_genes.csv', index=False)"
   ]
  },
  {
   "cell_type": "markdown",
   "metadata": {},
   "source": [
    "### possible non-therapeutic areas for Amla"
   ]
  },
  {
   "cell_type": "code",
   "execution_count": 13,
   "metadata": {},
   "outputs": [],
   "source": [
    "neg_df = dgs[dgs.efoId.isin(\n",
    "    ta[ta.taName.isin(['immune system disease', 'respiratory or thoracic disease', 'infectious disease'])].efoId.unique())]"
   ]
  },
  {
   "cell_type": "code",
   "execution_count": 33,
   "metadata": {},
   "outputs": [],
   "source": [
    "neg_df = neg_df[(neg_df.source == 'genetic_association') & (neg_df.score > 0.1)]"
   ]
  },
  {
   "cell_type": "code",
   "execution_count": 34,
   "metadata": {},
   "outputs": [],
   "source": [
    "df = neg_df.groupby(['efoId', 'efoName'])['GeneId'].size().sort_values().reset_index(name='Count')"
   ]
  },
  {
   "cell_type": "code",
   "execution_count": 35,
   "metadata": {},
   "outputs": [
    {
     "data": {
      "text/html": [
       "<div>\n",
       "<style scoped>\n",
       "    .dataframe tbody tr th:only-of-type {\n",
       "        vertical-align: middle;\n",
       "    }\n",
       "\n",
       "    .dataframe tbody tr th {\n",
       "        vertical-align: top;\n",
       "    }\n",
       "\n",
       "    .dataframe thead th {\n",
       "        text-align: right;\n",
       "    }\n",
       "</style>\n",
       "<table border=\"1\" class=\"dataframe\">\n",
       "  <thead>\n",
       "    <tr style=\"text-align: right;\">\n",
       "      <th></th>\n",
       "      <th>efoId</th>\n",
       "      <th>efoName</th>\n",
       "      <th>Count</th>\n",
       "    </tr>\n",
       "  </thead>\n",
       "  <tbody>\n",
       "    <tr>\n",
       "      <th>1114</th>\n",
       "      <td>EFO_0003779</td>\n",
       "      <td>hashimoto's thyroiditis</td>\n",
       "      <td>101</td>\n",
       "    </tr>\n",
       "    <tr>\n",
       "      <th>1115</th>\n",
       "      <td>MONDO_0021661</td>\n",
       "      <td>coronary atherosclerosis</td>\n",
       "      <td>102</td>\n",
       "    </tr>\n",
       "    <tr>\n",
       "      <th>1116</th>\n",
       "      <td>EFO_0003911</td>\n",
       "      <td>atrial flutter</td>\n",
       "      <td>111</td>\n",
       "    </tr>\n",
       "    <tr>\n",
       "      <th>1117</th>\n",
       "      <td>EFO_0001071</td>\n",
       "      <td>lung carcinoma</td>\n",
       "      <td>113</td>\n",
       "    </tr>\n",
       "    <tr>\n",
       "      <th>1118</th>\n",
       "      <td>EFO_1002011</td>\n",
       "      <td>adult onset asthma</td>\n",
       "      <td>118</td>\n",
       "    </tr>\n",
       "    <tr>\n",
       "      <th>1119</th>\n",
       "      <td>Orphanet_145</td>\n",
       "      <td>hereditary breast and ovarian cancer syndrome</td>\n",
       "      <td>129</td>\n",
       "    </tr>\n",
       "    <tr>\n",
       "      <th>1120</th>\n",
       "      <td>EFO_0000538</td>\n",
       "      <td>hypertrophic cardiomyopathy</td>\n",
       "      <td>139</td>\n",
       "    </tr>\n",
       "    <tr>\n",
       "      <th>1121</th>\n",
       "      <td>EFO_0003948</td>\n",
       "      <td>gastroesophageal reflux disease</td>\n",
       "      <td>142</td>\n",
       "    </tr>\n",
       "    <tr>\n",
       "      <th>1122</th>\n",
       "      <td>EFO_0001060</td>\n",
       "      <td>celiac disease</td>\n",
       "      <td>149</td>\n",
       "    </tr>\n",
       "    <tr>\n",
       "      <th>1123</th>\n",
       "      <td>EFO_0000407</td>\n",
       "      <td>dilated cardiomyopathy</td>\n",
       "      <td>149</td>\n",
       "    </tr>\n",
       "    <tr>\n",
       "      <th>1124</th>\n",
       "      <td>EFO_0000684</td>\n",
       "      <td>respiratory system disease</td>\n",
       "      <td>151</td>\n",
       "    </tr>\n",
       "    <tr>\n",
       "      <th>1125</th>\n",
       "      <td>EFO_0006812</td>\n",
       "      <td>autoimmune thyroid disease</td>\n",
       "      <td>176</td>\n",
       "    </tr>\n",
       "    <tr>\n",
       "      <th>1126</th>\n",
       "      <td>MONDO_0005271</td>\n",
       "      <td>allergic disease</td>\n",
       "      <td>186</td>\n",
       "    </tr>\n",
       "    <tr>\n",
       "      <th>1127</th>\n",
       "      <td>EFO_0000274</td>\n",
       "      <td>atopic eczema</td>\n",
       "      <td>200</td>\n",
       "    </tr>\n",
       "    <tr>\n",
       "      <th>1128</th>\n",
       "      <td>EFO_0005140</td>\n",
       "      <td>autoimmune disease</td>\n",
       "      <td>211</td>\n",
       "    </tr>\n",
       "    <tr>\n",
       "      <th>1129</th>\n",
       "      <td>EFO_0003956</td>\n",
       "      <td>seasonal allergic rhinitis</td>\n",
       "      <td>218</td>\n",
       "    </tr>\n",
       "    <tr>\n",
       "      <th>1130</th>\n",
       "      <td>EFO_0000612</td>\n",
       "      <td>myocardial infarction</td>\n",
       "      <td>224</td>\n",
       "    </tr>\n",
       "    <tr>\n",
       "      <th>1131</th>\n",
       "      <td>EFO_0003898</td>\n",
       "      <td>ankylosing spondylitis</td>\n",
       "      <td>272</td>\n",
       "    </tr>\n",
       "    <tr>\n",
       "      <th>1132</th>\n",
       "      <td>EFO_0005854</td>\n",
       "      <td>allergic rhinitis</td>\n",
       "      <td>273</td>\n",
       "    </tr>\n",
       "    <tr>\n",
       "      <th>1133</th>\n",
       "      <td>MONDO_0005405</td>\n",
       "      <td>childhood onset asthma</td>\n",
       "      <td>301</td>\n",
       "    </tr>\n",
       "    <tr>\n",
       "      <th>1134</th>\n",
       "      <td>EFO_0000341</td>\n",
       "      <td>chronic obstructive pulmonary disease</td>\n",
       "      <td>317</td>\n",
       "    </tr>\n",
       "    <tr>\n",
       "      <th>1135</th>\n",
       "      <td>MONDO_0005301</td>\n",
       "      <td>multiple sclerosis</td>\n",
       "      <td>322</td>\n",
       "    </tr>\n",
       "    <tr>\n",
       "      <th>1136</th>\n",
       "      <td>EFO_0000275</td>\n",
       "      <td>atrial fibrillation</td>\n",
       "      <td>348</td>\n",
       "    </tr>\n",
       "    <tr>\n",
       "      <th>1137</th>\n",
       "      <td>EFO_0000685</td>\n",
       "      <td>rheumatoid arthritis</td>\n",
       "      <td>355</td>\n",
       "    </tr>\n",
       "    <tr>\n",
       "      <th>1138</th>\n",
       "      <td>EFO_0003767</td>\n",
       "      <td>inflammatory bowel disease</td>\n",
       "      <td>371</td>\n",
       "    </tr>\n",
       "    <tr>\n",
       "      <th>1139</th>\n",
       "      <td>EFO_0002690</td>\n",
       "      <td>systemic lupus erythematosus</td>\n",
       "      <td>389</td>\n",
       "    </tr>\n",
       "    <tr>\n",
       "      <th>1140</th>\n",
       "      <td>EFO_0000305</td>\n",
       "      <td>breast carcinoma</td>\n",
       "      <td>402</td>\n",
       "    </tr>\n",
       "    <tr>\n",
       "      <th>1141</th>\n",
       "      <td>MONDO_0005147</td>\n",
       "      <td>type 1 diabetes mellitus</td>\n",
       "      <td>417</td>\n",
       "    </tr>\n",
       "    <tr>\n",
       "      <th>1142</th>\n",
       "      <td>EFO_0000384</td>\n",
       "      <td>crohn's disease</td>\n",
       "      <td>441</td>\n",
       "    </tr>\n",
       "    <tr>\n",
       "      <th>1143</th>\n",
       "      <td>EFO_0000676</td>\n",
       "      <td>psoriasis</td>\n",
       "      <td>491</td>\n",
       "    </tr>\n",
       "    <tr>\n",
       "      <th>1144</th>\n",
       "      <td>EFO_0000729</td>\n",
       "      <td>ulcerative colitis</td>\n",
       "      <td>510</td>\n",
       "    </tr>\n",
       "    <tr>\n",
       "      <th>1145</th>\n",
       "      <td>EFO_0001645</td>\n",
       "      <td>coronary artery disease</td>\n",
       "      <td>571</td>\n",
       "    </tr>\n",
       "    <tr>\n",
       "      <th>1146</th>\n",
       "      <td>MONDO_0004979</td>\n",
       "      <td>asthma</td>\n",
       "      <td>608</td>\n",
       "    </tr>\n",
       "  </tbody>\n",
       "</table>\n",
       "</div>"
      ],
      "text/plain": [
       "              efoId                                        efoName  Count\n",
       "1114    EFO_0003779                        hashimoto's thyroiditis    101\n",
       "1115  MONDO_0021661                       coronary atherosclerosis    102\n",
       "1116    EFO_0003911                                 atrial flutter    111\n",
       "1117    EFO_0001071                                 lung carcinoma    113\n",
       "1118    EFO_1002011                             adult onset asthma    118\n",
       "1119   Orphanet_145  hereditary breast and ovarian cancer syndrome    129\n",
       "1120    EFO_0000538                    hypertrophic cardiomyopathy    139\n",
       "1121    EFO_0003948                gastroesophageal reflux disease    142\n",
       "1122    EFO_0001060                                 celiac disease    149\n",
       "1123    EFO_0000407                         dilated cardiomyopathy    149\n",
       "1124    EFO_0000684                     respiratory system disease    151\n",
       "1125    EFO_0006812                     autoimmune thyroid disease    176\n",
       "1126  MONDO_0005271                               allergic disease    186\n",
       "1127    EFO_0000274                                  atopic eczema    200\n",
       "1128    EFO_0005140                             autoimmune disease    211\n",
       "1129    EFO_0003956                     seasonal allergic rhinitis    218\n",
       "1130    EFO_0000612                          myocardial infarction    224\n",
       "1131    EFO_0003898                         ankylosing spondylitis    272\n",
       "1132    EFO_0005854                              allergic rhinitis    273\n",
       "1133  MONDO_0005405                         childhood onset asthma    301\n",
       "1134    EFO_0000341          chronic obstructive pulmonary disease    317\n",
       "1135  MONDO_0005301                             multiple sclerosis    322\n",
       "1136    EFO_0000275                            atrial fibrillation    348\n",
       "1137    EFO_0000685                           rheumatoid arthritis    355\n",
       "1138    EFO_0003767                     inflammatory bowel disease    371\n",
       "1139    EFO_0002690                   systemic lupus erythematosus    389\n",
       "1140    EFO_0000305                               breast carcinoma    402\n",
       "1141  MONDO_0005147                       type 1 diabetes mellitus    417\n",
       "1142    EFO_0000384                                crohn's disease    441\n",
       "1143    EFO_0000676                                      psoriasis    491\n",
       "1144    EFO_0000729                             ulcerative colitis    510\n",
       "1145    EFO_0001645                        coronary artery disease    571\n",
       "1146  MONDO_0004979                                         asthma    608"
      ]
     },
     "execution_count": 35,
     "metadata": {},
     "output_type": "execute_result"
    }
   ],
   "source": [
    "df[df.Count > 100]"
   ]
  },
  {
   "cell_type": "markdown",
   "metadata": {},
   "source": [
    "candidates are: celiac disease (EFO_0001060), chronic obstructive pulmonary disease (EFO_0000341), multiple sclerosis (MONDO_0005301), rheumatoid arthritis (EFO_0000685), type 1 diabetes mellitus (MONDO_0005147), systemic lupus (EFO_0002690), crohn's disease (EFO_0000384)"
   ]
  },
  {
   "cell_type": "code",
   "execution_count": 37,
   "metadata": {},
   "outputs": [],
   "source": [
    "neg_df[neg_df.efoId.isin(['EFO_0001060', 'EFO_0000341', 'MONDO_0005301',\n",
    " 'EFO_0000685', 'MONDO_0005147', 'EFO_0002690', 'EFO_0000384'])].to_csv('data/amla_non_therapeutic_areas.csv', index=False)"
   ]
  },
  {
   "cell_type": "code",
   "execution_count": null,
   "metadata": {},
   "outputs": [],
   "source": []
  }
 ],
 "metadata": {
  "kernelspec": {
   "display_name": "Python 3",
   "language": "python",
   "name": "python3"
  },
  "language_info": {
   "codemirror_mode": {
    "name": "ipython",
    "version": 3
   },
   "file_extension": ".py",
   "mimetype": "text/x-python",
   "name": "python",
   "nbconvert_exporter": "python",
   "pygments_lexer": "ipython3",
   "version": "3.8.5"
  },
  "vscode": {
   "interpreter": {
    "hash": "5cde4cd708c623220f5e4872106977bd9ff6957a405f0f1da032867ce92b3768"
   }
  }
 },
 "nbformat": 4,
 "nbformat_minor": 2
}
